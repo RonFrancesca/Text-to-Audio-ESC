{
 "cells": [
  {
   "cell_type": "markdown",
   "metadata": {},
   "source": [
    "The goal is to compare different kind of system text-to-auddio for the urban cound classification goal and understand if and which system is able to generate audio similar to real sound so that can be actually used in training phase. \n",
    "\n",
    "The idea is to generate audio with three different systems: \n",
    "- AudioLDM\n",
    "- AudioLDM 2\n",
    "- AudioGen \n",
    "\n",
    "Here we will use the model AudioGen"
   ]
  },
  {
   "cell_type": "markdown",
   "metadata": {},
   "source": [
    "## AudioGen"
   ]
  },
  {
   "cell_type": "code",
   "execution_count": 1,
   "metadata": {},
   "outputs": [
    {
     "name": "stderr",
     "output_type": "stream",
     "text": [
      "WARNING[XFORMERS]: xFormers can't load C++/CUDA extensions. xFormers was built for:\n",
      "    PyTorch 2.1.2+cu121 with CUDA 1201 (you have 2.1.2)\n",
      "    Python  3.9.18 (you have 3.9.18)\n",
      "  Please reinstall xformers (see https://github.com/facebookresearch/xformers#installing-xformers)\n",
      "  Memory-efficient attention, SwiGLU, sparse and more won't be available.\n",
      "  Set XFORMERS_MORE_DETAILS=1 for more details\n",
      "/nas/home/fronchini/miniconda3/envs/tagging_2/lib/python3.9/site-packages/tqdm/auto.py:21: TqdmWarning: IProgress not found. Please update jupyter and ipywidgets. See https://ipywidgets.readthedocs.io/en/stable/user_install.html\n",
      "  from .autonotebook import tqdm as notebook_tqdm\n",
      "compression_state_dict.bin: 100%|██████████| 236M/236M [00:02<00:00, 109MB/s]  \n",
      "/nas/home/fronchini/miniconda3/envs/tagging_2/lib/python3.9/site-packages/torch/nn/utils/weight_norm.py:30: UserWarning: torch.nn.utils.weight_norm is deprecated in favor of torch.nn.utils.parametrizations.weight_norm.\n",
      "  warnings.warn(\"torch.nn.utils.weight_norm is deprecated in favor of torch.nn.utils.parametrizations.weight_norm.\")\n",
      "state_dict.bin: 100%|██████████| 3.68G/3.68G [00:50<00:00, 72.1MB/s]\n",
      "spiece.model: 100%|██████████| 792k/792k [00:00<00:00, 1.95MB/s]\n",
      "tokenizer.json: 100%|██████████| 1.39M/1.39M [00:00<00:00, 2.74MB/s]\n",
      "config.json: 100%|██████████| 1.21k/1.21k [00:00<00:00, 270kB/s]\n",
      "model.safetensors: 100%|██████████| 2.95G/2.95G [00:42<00:00, 69.9MB/s]\n",
      "Unable to find python bindings at /usr/local/dcgm/bindings/python3. No data will be captured.\n"
     ]
    }
   ],
   "source": [
    "import torchaudio\n",
    "from audiocraft.models import AudioGen\n",
    "from audiocraft.data.audio import audio_write\n",
    "\n",
    "model = AudioGen.get_pretrained('facebook/audiogen-medium')\n",
    "model.set_generation_params(duration=5)  # generate 5 seconds.\n",
    "descriptions = ['dog barking', 'sirene of an emergency vehicle', 'footsteps in a corridor']\n",
    "wav = model.generate(descriptions)  # generates 3 samples.\n",
    "\n",
    "for idx, one_wav in enumerate(wav):\n",
    "    # Will save under {idx}.wav, with loudness normalization at -14 db LUFS.\n",
    "    audio_write(f'{idx}', one_wav.cpu(), model.sample_rate, strategy=\"loudness\", loudness_compressor=True)\n"
   ]
  }
 ],
 "metadata": {
  "kernelspec": {
   "display_name": "tagging",
   "language": "python",
   "name": "python3"
  },
  "language_info": {
   "codemirror_mode": {
    "name": "ipython",
    "version": 3
   },
   "file_extension": ".py",
   "mimetype": "text/x-python",
   "name": "python",
   "nbconvert_exporter": "python",
   "pygments_lexer": "ipython3",
   "version": "3.9.18"
  }
 },
 "nbformat": 4,
 "nbformat_minor": 2
}
